{
 "cells": [
  {
   "cell_type": "code",
   "execution_count": 1,
   "metadata": {},
   "outputs": [],
   "source": [
    "import numpy as np\n",
    "import matplotlib.pyplot as plt\n",
    "from pytorchtools import EarlyStopping\n",
    "np.random.seed(1)\n",
    "\n",
    "nums_random = [int(np.random.randint(0, 8, 1)) for _ in range(12)]\n"
   ]
  },
  {
   "cell_type": "code",
   "execution_count": 3,
   "metadata": {},
   "outputs": [
    {
     "name": "stdout",
     "output_type": "stream",
     "text": [
      "val_loss: 5\n",
      "val_loss: 4\n",
      "val_loss: 3\n",
      "val_loss: 2\n",
      "val_loss: 1\n",
      "val_loss: 2\n",
      "EarlyStopping counter: 1 out of 3\n",
      "val_loss: 3\n",
      "EarlyStopping counter: 2 out of 3\n",
      "val_loss: 4\n",
      "EarlyStopping counter: 3 out of 3\n",
      "Early Stopping\n"
     ]
    }
   ],
   "source": [
    "from torch import nn\n",
    "from pytorchtools import EarlyStopping\n",
    "\n",
    "# 適当なモデル\n",
    "class Model(nn.Module):\n",
    "    def __init__(self):\n",
    "        super(Model, self).__init__()\n",
    "        self.Linear = nn.Linear(1, 1)\n",
    "    \n",
    "    def forward(self, x):\n",
    "        pass\n",
    "\n",
    "# インスタンス作成\n",
    "model = Model()\n",
    "early_stopping = EarlyStopping(patience=3)\n",
    "# loss（だと思っている値）のループ\n",
    "for val_loss in [5, 4, 3, 2, 1, 2, 3, 4, 5, 6]:\n",
    "    print('val_loss:', val_loss)\n",
    "    early_stopping(val_loss, model)\n",
    "    if early_stopping.early_stop:\n",
    "        print(\"Early Stopping\")\n",
    "        break # 打ち切り\n"
   ]
  },
  {
   "cell_type": "code",
   "execution_count": null,
   "metadata": {},
   "outputs": [],
   "source": []
  }
 ],
 "metadata": {
  "kernelspec": {
   "display_name": "venv",
   "language": "python",
   "name": "python3"
  },
  "language_info": {
   "codemirror_mode": {
    "name": "ipython",
    "version": 3
   },
   "file_extension": ".py",
   "mimetype": "text/x-python",
   "name": "python",
   "nbconvert_exporter": "python",
   "pygments_lexer": "ipython3",
   "version": "3.9.6"
  }
 },
 "nbformat": 4,
 "nbformat_minor": 2
}
